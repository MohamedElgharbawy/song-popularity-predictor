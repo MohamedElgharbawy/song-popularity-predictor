{
 "cells": [
  {
   "cell_type": "code",
   "execution_count": 42,
   "id": "exclusive-budapest",
   "metadata": {},
   "outputs": [],
   "source": [
    "import warnings\n",
    "warnings.filterwarnings(\"ignore\")\n",
    "import pandas as pd\n",
    "import torch\n",
    "import torch.nn as nn\n",
    "import torch.utils.data as data_utils\n",
    "from sklearn.model_selection import train_test_split\n",
    "from math import ceil\n",
    "import matplotlib.pyplot as plt\n",
    "import numpy as np\n",
    "from sklearn.metrics import r2_score\n",
    "\n",
    "rng_seed = 24"
   ]
  },
  {
   "cell_type": "markdown",
   "id": "spatial-malaysia",
   "metadata": {},
   "source": [
    "# Configure input data"
   ]
  },
  {
   "cell_type": "code",
   "execution_count": 43,
   "id": "serious-porcelain",
   "metadata": {},
   "outputs": [],
   "source": [
    "tracks = pd.read_csv(\"data/processed/tracks.csv\")"
   ]
  },
  {
   "cell_type": "code",
   "execution_count": 44,
   "id": "sophisticated-syracuse",
   "metadata": {},
   "outputs": [],
   "source": [
    "X = tracks.drop(['popularity'], axis=1)\n",
    "y = tracks['popularity']"
   ]
  },
  {
   "cell_type": "code",
   "execution_count": 45,
   "id": "valuable-chocolate",
   "metadata": {},
   "outputs": [],
   "source": [
    "X_train, X_test, y_train, y_test = train_test_split(X, y, test_size=0.2, random_state=rng_seed)\n",
    "X_train = torch.tensor(X_train.values).float()\n",
    "X_test = torch.tensor(X_test.values).float()\n",
    "y_train = torch.tensor(y_train.values).float()\n",
    "y_test = torch.tensor(y_test.values).float()"
   ]
  },
  {
   "cell_type": "code",
   "execution_count": 46,
   "id": "provincial-glass",
   "metadata": {},
   "outputs": [],
   "source": [
    "batch_size = 32"
   ]
  },
  {
   "cell_type": "code",
   "execution_count": 47,
   "id": "illegal-cleanup",
   "metadata": {},
   "outputs": [],
   "source": [
    "train = data_utils.TensorDataset(X_train, y_train)\n",
    "train_loader = data_utils.DataLoader(train, batch_size=batch_size, shuffle=True)"
   ]
  },
  {
   "cell_type": "markdown",
   "id": "satisfied-fireplace",
   "metadata": {},
   "source": [
    "# Setup neural network"
   ]
  },
  {
   "cell_type": "code",
   "execution_count": 48,
   "id": "normal-alarm",
   "metadata": {},
   "outputs": [],
   "source": [
    "class FNN(nn.Module):\n",
    "    def __init__(self, input_size, hidden_size, output_size):\n",
    "        super(FNN, self).__init__()\n",
    "        self.layers = nn.Sequential(\n",
    "            nn.Linear(input_size, hidden_size),\n",
    "            nn.ReLU(),\n",
    "            nn.Linear(hidden_size, output_size)\n",
    "        )\n",
    "\n",
    "    def forward(self, x):\n",
    "        return self.layers(x)\n",
    "    \n",
    "    def predict(self, x):\n",
    "        return torch.round(self.layers(x).detach())"
   ]
  },
  {
   "cell_type": "markdown",
   "id": "meaningful-raising",
   "metadata": {},
   "source": [
    "# Root mean squared error loss"
   ]
  },
  {
   "cell_type": "code",
   "execution_count": 49,
   "id": "gothic-occupation",
   "metadata": {},
   "outputs": [],
   "source": [
    "class RMSELoss(nn.Module):\n",
    "    def __init__(self):\n",
    "        super().__init__()\n",
    "        self.mse = nn.MSELoss()\n",
    "        \n",
    "    def forward(self,yhat,y):\n",
    "        return torch.sqrt(self.mse(yhat,y))"
   ]
  },
  {
   "cell_type": "markdown",
   "id": "guided-estate",
   "metadata": {},
   "source": [
    "# Training"
   ]
  },
  {
   "cell_type": "code",
   "execution_count": 63,
   "id": "relevant-defendant",
   "metadata": {},
   "outputs": [
    {
     "name": "stdout",
     "output_type": "stream",
     "text": [
      "===== Epoch 0 =====\n",
      "Training loss: 14.597, Validation Loss: 13.983, R2 Score: 0.426\n",
      "===== Epoch 1 =====\n",
      "Training loss: 13.811, Validation Loss: 13.763, R2 Score: 0.444\n",
      "===== Epoch 2 =====\n",
      "Training loss: 13.669, Validation Loss: 13.642, R2 Score: 0.454\n",
      "===== Epoch 3 =====\n",
      "Training loss: 13.628, Validation Loss: 13.939, R2 Score: 0.43\n",
      "===== Epoch 4 =====\n",
      "Training loss: 13.584, Validation Loss: 13.788, R2 Score: 0.442\n",
      "===== Epoch 5 =====\n",
      "Training loss: 13.562, Validation Loss: 13.602, R2 Score: 0.457\n",
      "===== Epoch 6 =====\n",
      "Training loss: 13.541, Validation Loss: 13.609, R2 Score: 0.457\n",
      "===== Epoch 7 =====\n",
      "Training loss: 13.517, Validation Loss: 13.721, R2 Score: 0.448\n",
      "===== Epoch 8 =====\n",
      "Training loss: 13.472, Validation Loss: 13.526, R2 Score: 0.463\n",
      "===== Epoch 9 =====\n",
      "Training loss: 13.43, Validation Loss: 13.627, R2 Score: 0.455\n",
      "===== Epoch 10 =====\n",
      "Training loss: 13.393, Validation Loss: 13.474, R2 Score: 0.467\n",
      "===== Epoch 11 =====\n",
      "Training loss: 13.352, Validation Loss: 13.455, R2 Score: 0.469\n",
      "===== Epoch 12 =====\n",
      "Training loss: 13.315, Validation Loss: 13.395, R2 Score: 0.474\n",
      "===== Epoch 13 =====\n",
      "Training loss: 13.302, Validation Loss: 13.364, R2 Score: 0.476\n",
      "===== Epoch 14 =====\n",
      "Training loss: 13.268, Validation Loss: 13.399, R2 Score: 0.473\n",
      "===== Epoch 15 =====\n",
      "Training loss: 13.248, Validation Loss: 13.432, R2 Score: 0.471\n",
      "===== Epoch 16 =====\n",
      "Training loss: 13.233, Validation Loss: 13.387, R2 Score: 0.474\n",
      "===== Epoch 17 =====\n",
      "Training loss: 13.209, Validation Loss: 13.345, R2 Score: 0.477\n",
      "===== Epoch 18 =====\n",
      "Training loss: 13.228, Validation Loss: 13.275, R2 Score: 0.483\n",
      "===== Epoch 19 =====\n",
      "Training loss: 13.196, Validation Loss: 13.316, R2 Score: 0.48\n",
      "===== Epoch 20 =====\n",
      "Training loss: 13.182, Validation Loss: 13.265, R2 Score: 0.484\n",
      "===== Epoch 21 =====\n",
      "Training loss: 13.178, Validation Loss: 13.495, R2 Score: 0.466\n",
      "===== Epoch 22 =====\n",
      "Training loss: 13.174, Validation Loss: 13.244, R2 Score: 0.485\n",
      "===== Epoch 23 =====\n",
      "Training loss: 13.165, Validation Loss: 13.36, R2 Score: 0.476\n",
      "===== Epoch 24 =====\n",
      "Training loss: 13.165, Validation Loss: 13.276, R2 Score: 0.483\n",
      "===== Epoch 25 =====\n",
      "Training loss: 13.146, Validation Loss: 13.439, R2 Score: 0.47\n",
      "===== Epoch 26 =====\n",
      "Training loss: 13.138, Validation Loss: 13.218, R2 Score: 0.487\n",
      "===== Epoch 27 =====\n",
      "Training loss: 13.106, Validation Loss: 13.261, R2 Score: 0.484\n",
      "===== Epoch 28 =====\n",
      "Training loss: 13.094, Validation Loss: 13.212, R2 Score: 0.488\n",
      "===== Epoch 29 =====\n",
      "Training loss: 13.058, Validation Loss: 13.141, R2 Score: 0.493\n",
      "===== Epoch 30 =====\n",
      "Training loss: 13.053, Validation Loss: 13.139, R2 Score: 0.493\n",
      "===== Epoch 31 =====\n",
      "Training loss: 13.036, Validation Loss: 13.221, R2 Score: 0.487\n",
      "===== Epoch 32 =====\n",
      "Training loss: 12.99, Validation Loss: 13.049, R2 Score: 0.5\n",
      "===== Epoch 33 =====\n",
      "Training loss: 12.991, Validation Loss: 13.107, R2 Score: 0.496\n",
      "===== Epoch 34 =====\n",
      "Training loss: 12.973, Validation Loss: 13.051, R2 Score: 0.5\n",
      "===== Epoch 35 =====\n",
      "Training loss: 12.954, Validation Loss: 13.073, R2 Score: 0.499\n",
      "===== Epoch 36 =====\n",
      "Training loss: 12.95, Validation Loss: 13.024, R2 Score: 0.502\n",
      "===== Epoch 37 =====\n",
      "Training loss: 12.917, Validation Loss: 13.1, R2 Score: 0.496\n",
      "===== Epoch 38 =====\n",
      "Training loss: 12.911, Validation Loss: 12.961, R2 Score: 0.507\n",
      "===== Epoch 39 =====\n",
      "Training loss: 12.902, Validation Loss: 13.005, R2 Score: 0.504\n",
      "===== Epoch 40 =====\n",
      "Training loss: 12.89, Validation Loss: 13.044, R2 Score: 0.501\n",
      "===== Epoch 41 =====\n",
      "Training loss: 12.881, Validation Loss: 13.116, R2 Score: 0.495\n",
      "===== Epoch 42 =====\n",
      "Training loss: 12.852, Validation Loss: 13.075, R2 Score: 0.498\n",
      "===== Epoch 43 =====\n",
      "Training loss: 12.824, Validation Loss: 13.024, R2 Score: 0.502\n",
      "===== Epoch 44 =====\n",
      "Training loss: 12.823, Validation Loss: 12.944, R2 Score: 0.508\n",
      "===== Epoch 45 =====\n",
      "Training loss: 12.799, Validation Loss: 13.07, R2 Score: 0.499\n",
      "===== Epoch 46 =====\n",
      "Training loss: 12.807, Validation Loss: 12.919, R2 Score: 0.51\n",
      "===== Epoch 47 =====\n",
      "Training loss: 12.787, Validation Loss: 13.056, R2 Score: 0.5\n",
      "===== Epoch 48 =====\n",
      "Training loss: 12.785, Validation Loss: 12.899, R2 Score: 0.512\n",
      "===== Epoch 49 =====\n",
      "Training loss: 12.762, Validation Loss: 12.899, R2 Score: 0.512\n",
      "===== Epoch 50 =====\n",
      "Training loss: 12.75, Validation Loss: 12.943, R2 Score: 0.508\n",
      "===== Epoch 51 =====\n",
      "Training loss: 12.75, Validation Loss: 12.838, R2 Score: 0.516\n",
      "===== Epoch 52 =====\n",
      "Training loss: 12.737, Validation Loss: 12.92, R2 Score: 0.51\n",
      "===== Epoch 53 =====\n",
      "Training loss: 12.732, Validation Loss: 12.881, R2 Score: 0.513\n",
      "===== Epoch 54 =====\n",
      "Training loss: 12.708, Validation Loss: 13.076, R2 Score: 0.498\n",
      "===== Epoch 55 =====\n",
      "Training loss: 12.708, Validation Loss: 12.848, R2 Score: 0.516\n",
      "===== Epoch 56 =====\n",
      "Training loss: 12.694, Validation Loss: 12.814, R2 Score: 0.518\n",
      "===== Epoch 57 =====\n",
      "Training loss: 12.715, Validation Loss: 12.977, R2 Score: 0.506\n",
      "===== Epoch 58 =====\n",
      "Training loss: 12.703, Validation Loss: 12.816, R2 Score: 0.518\n",
      "===== Epoch 59 =====\n",
      "Training loss: 12.664, Validation Loss: 12.805, R2 Score: 0.519\n",
      "===== Epoch 60 =====\n",
      "Training loss: 12.667, Validation Loss: 13.051, R2 Score: 0.5\n",
      "===== Epoch 61 =====\n",
      "Training loss: 12.669, Validation Loss: 12.87, R2 Score: 0.514\n",
      "===== Epoch 62 =====\n",
      "Training loss: 12.663, Validation Loss: 12.799, R2 Score: 0.519\n",
      "===== Epoch 63 =====\n",
      "Training loss: 12.653, Validation Loss: 12.849, R2 Score: 0.516\n",
      "===== Epoch 64 =====\n",
      "Training loss: 12.65, Validation Loss: 12.998, R2 Score: 0.504\n",
      "===== Epoch 65 =====\n",
      "Training loss: 12.647, Validation Loss: 12.856, R2 Score: 0.515\n",
      "===== Epoch 66 =====\n",
      "Training loss: 12.641, Validation Loss: 12.85, R2 Score: 0.515\n",
      "===== Epoch 67 =====\n",
      "Training loss: 12.648, Validation Loss: 12.797, R2 Score: 0.519\n",
      "===== Epoch 68 =====\n",
      "Training loss: 12.644, Validation Loss: 12.815, R2 Score: 0.518\n",
      "===== Epoch 69 =====\n",
      "Training loss: 12.629, Validation Loss: 12.741, R2 Score: 0.524\n",
      "===== Epoch 70 =====\n",
      "Training loss: 12.629, Validation Loss: 12.759, R2 Score: 0.522\n",
      "===== Epoch 71 =====\n",
      "Training loss: 12.614, Validation Loss: 12.743, R2 Score: 0.524\n",
      "===== Epoch 72 =====\n",
      "Training loss: 12.621, Validation Loss: 12.827, R2 Score: 0.517\n",
      "===== Epoch 73 =====\n",
      "Training loss: 12.641, Validation Loss: 12.76, R2 Score: 0.522\n",
      "===== Epoch 74 =====\n",
      "Training loss: 12.611, Validation Loss: 12.968, R2 Score: 0.507\n",
      "===== Epoch 75 =====\n",
      "Training loss: 12.602, Validation Loss: 12.76, R2 Score: 0.522\n",
      "===== Epoch 76 =====\n",
      "Training loss: 12.59, Validation Loss: 12.858, R2 Score: 0.515\n",
      "===== Epoch 77 =====\n",
      "Training loss: 12.574, Validation Loss: 12.953, R2 Score: 0.508\n",
      "===== Epoch 78 =====\n",
      "Training loss: 12.584, Validation Loss: 12.728, R2 Score: 0.525\n",
      "===== Epoch 79 =====\n",
      "Training loss: 12.592, Validation Loss: 12.772, R2 Score: 0.521\n",
      "===== Epoch 80 =====\n",
      "Training loss: 12.573, Validation Loss: 12.691, R2 Score: 0.527\n",
      "===== Epoch 81 =====\n",
      "Training loss: 12.576, Validation Loss: 12.834, R2 Score: 0.517\n",
      "===== Epoch 82 =====\n",
      "Training loss: 12.575, Validation Loss: 12.677, R2 Score: 0.528\n",
      "===== Epoch 83 =====\n",
      "Training loss: 12.569, Validation Loss: 12.763, R2 Score: 0.522\n",
      "===== Epoch 84 =====\n",
      "Training loss: 12.576, Validation Loss: 12.81, R2 Score: 0.518\n",
      "===== Epoch 85 =====\n",
      "Training loss: 12.553, Validation Loss: 12.807, R2 Score: 0.519\n",
      "===== Epoch 86 =====\n",
      "Training loss: 12.55, Validation Loss: 12.727, R2 Score: 0.525\n",
      "===== Epoch 87 =====\n",
      "Training loss: 12.541, Validation Loss: 12.845, R2 Score: 0.516\n",
      "===== Epoch 88 =====\n",
      "Training loss: 12.544, Validation Loss: 12.811, R2 Score: 0.518\n",
      "===== Epoch 89 =====\n",
      "Training loss: 12.547, Validation Loss: 12.776, R2 Score: 0.521\n",
      "===== Epoch 90 =====\n",
      "Training loss: 12.557, Validation Loss: 12.685, R2 Score: 0.528\n",
      "===== Epoch 91 =====\n",
      "Training loss: 12.564, Validation Loss: 12.672, R2 Score: 0.529\n",
      "===== Epoch 92 =====\n",
      "Training loss: 12.547, Validation Loss: 12.987, R2 Score: 0.505\n",
      "===== Epoch 93 =====\n",
      "Training loss: 12.543, Validation Loss: 12.686, R2 Score: 0.528\n",
      "===== Epoch 94 =====\n",
      "Training loss: 12.53, Validation Loss: 12.86, R2 Score: 0.515\n",
      "===== Epoch 95 =====\n",
      "Training loss: 12.55, Validation Loss: 12.712, R2 Score: 0.526\n",
      "===== Epoch 96 =====\n",
      "Training loss: 12.534, Validation Loss: 12.805, R2 Score: 0.519\n",
      "===== Epoch 97 =====\n"
     ]
    },
    {
     "name": "stdout",
     "output_type": "stream",
     "text": [
      "Training loss: 12.503, Validation Loss: 12.677, R2 Score: 0.528\n",
      "===== Epoch 98 =====\n",
      "Training loss: 12.533, Validation Loss: 12.684, R2 Score: 0.528\n",
      "===== Epoch 99 =====\n",
      "Training loss: 12.53, Validation Loss: 12.844, R2 Score: 0.516\n",
      "\n",
      "Training process has finished.\n"
     ]
    }
   ],
   "source": [
    "torch.manual_seed(rng_seed)\n",
    "\n",
    "input_size = X_train.shape[1]\n",
    "hidden_size = 100\n",
    "output_size = 1\n",
    "fnn = FNN(input_size, hidden_size, output_size)\n",
    "\n",
    "loss_fn = RMSELoss()\n",
    "lr = 0.01\n",
    "optimizer = torch.optim.Adam(fnn.parameters(), lr=lr)\n",
    "\n",
    "training_losses = []\n",
    "val_losses = []\n",
    "r2_scores = []\n",
    "\n",
    "num_epochs = 100\n",
    "\n",
    "# Run the training loop\n",
    "for epoch in range(num_epochs):\n",
    "    print(f\"{'=' * 5} Epoch {epoch} {'=' * 5}\")\n",
    "    \n",
    "    current_losses = []\n",
    "    \n",
    "    for i, data in enumerate(train_loader):        \n",
    "        # Get and prepare inputs\n",
    "        inputs, targets = data\n",
    "        targets = targets.unsqueeze(dim=-1)\n",
    "        \n",
    "        # Zero the gradients\n",
    "        optimizer.zero_grad()\n",
    "        \n",
    "        # Perform forward pass\n",
    "        outputs = fnn(inputs)\n",
    "        \n",
    "        # Compute loss\n",
    "        loss = loss_fn(outputs, targets)\n",
    "\n",
    "        # Perform backward pass\n",
    "        loss.backward()\n",
    "\n",
    "        # Perform optimization\n",
    "        optimizer.step()\n",
    "\n",
    "        # Training loss\n",
    "        current_losses.append(loss.item())\n",
    "        \n",
    "    # Average training loss of the batches in this epoch\n",
    "    training_losses.append(np.mean(current_losses))\n",
    "    \n",
    "    # Validation loss\n",
    "    with torch.no_grad():\n",
    "        val_pred = fnn.predict(X_test)\n",
    "        val_loss = loss_fn(val_pred, y_test.unsqueeze(dim=-1))\n",
    "        val_losses.append(val_loss.item())\n",
    "        r2_scores.append(r2_score(y_test, val_pred))\n",
    "        \n",
    "    print(f\"Training loss: {round(training_losses[-1], 3)}, Validation Loss: {round(val_losses[-1], 3)}, R2 Score: {round(r2_scores[-1], 3)}\")\n",
    "    \n",
    "print('\\nTraining process has finished.')"
   ]
  },
  {
   "cell_type": "code",
   "execution_count": 65,
   "id": "applicable-chosen",
   "metadata": {
    "scrolled": true
   },
   "outputs": [
    {
     "data": {
      "text/plain": [
       "<matplotlib.legend.Legend at 0x7fa2a898fa90>"
      ]
     },
     "execution_count": 65,
     "metadata": {},
     "output_type": "execute_result"
    },
    {
     "data": {
      "image/png": "[encoded data removed]",
      "text/plain": [
       "<Figure size 432x288 with 1 Axes>"
      ]
     },
     "metadata": {
      "needs_background": "light"
     },
     "output_type": "display_data"
    }
   ],
   "source": [
    "plt.plot(training_losses, label='Training loss')\n",
    "plt.plot(val_losses, label='Validation loss')\n",
    "plt.xlabel(\"Epoch\")\n",
    "plt.ylabel(\"Loss\")\n",
    "plt.title(f\"RMSE Loss\")\n",
    "plt.legend()"
   ]
  },
  {
   "cell_type": "code",
   "execution_count": 66,
   "id": "voluntary-ridge",
   "metadata": {},
   "outputs": [
    {
     "data": {
      "text/plain": [
       "Text(0.5, 1.0, 'R2 Score')"
      ]
     },
     "execution_count": 66,
     "metadata": {},
     "output_type": "execute_result"
    },
    {
     "data": {
      "image/png": "[encoded data removed]",
      "text/plain": [
       "<Figure size 432x288 with 1 Axes>"
      ]
     },
     "metadata": {
      "needs_background": "light"
     },
     "output_type": "display_data"
    }
   ],
   "source": [
    "plt.plot(r2_scores)\n",
    "plt.xlabel(\"Epoch\")\n",
    "plt.ylabel(\"R2 Score\")\n",
    "plt.title(\"R2 Score\")"
   ]
  },
  {
   "cell_type": "code",
   "execution_count": null,
   "id": "developing-progressive",
   "metadata": {},
   "outputs": [],
   "source": []
  }
 ],
 "metadata": {
  "kernelspec": {
   "display_name": "Python 3",
   "language": "python",
   "name": "python3"
  },
  "language_info": {
   "codemirror_mode": {
    "name": "ipython",
    "version": 3
   },
   "file_extension": ".py",
   "mimetype": "text/x-python",
   "name": "python",
   "nbconvert_exporter": "python",
   "pygments_lexer": "ipython3",
   "version": "3.8.5"
  }
 },
 "nbformat": 4,
 "nbformat_minor": 5
}
